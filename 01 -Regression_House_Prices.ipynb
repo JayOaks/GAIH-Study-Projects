{
  "cells": [
    {
      "cell_type": "markdown",
      "metadata": {
        "id": "view-in-github",
        "colab_type": "text"
      },
      "source": [
        "<a href=\"https://colab.research.google.com/github/JayOaks/GAIH-Study-Projects/blob/main/Regression_House_Prices.ipynb\" target=\"_parent\"><img src=\"https://colab.research.google.com/assets/colab-badge.svg\" alt=\"Open In Colab\"/></a>"
      ]
    },
    {
      "cell_type": "markdown",
      "source": [
        "Importing libraries"
      ],
      "metadata": {
        "id": "VEkSP3mVKIEb"
      },
      "id": "VEkSP3mVKIEb"
    },
    {
      "cell_type": "code",
      "execution_count": null,
      "id": "e4ad459d",
      "metadata": {
        "id": "e4ad459d"
      },
      "outputs": [],
      "source": [
        "#Import the pandas library as pd\n",
        "import pandas as pd"
      ]
    },
    {
      "cell_type": "markdown",
      "source": [
        "Reading files / assigning datasets to variables"
      ],
      "metadata": {
        "id": "chwKQWmVKJMf"
      },
      "id": "chwKQWmVKJMf"
    },
    {
      "cell_type": "code",
      "execution_count": null,
      "id": "bedf4252",
      "metadata": {
        "id": "bedf4252"
      },
      "outputs": [],
      "source": [
        "#Assign the datasets / read them into variables\n",
        "train = pd.read_csv(\"train.csv\")\n",
        "test = pd.read_csv(\"test.csv\")"
      ]
    },
    {
      "cell_type": "markdown",
      "source": [
        "Check the columns of the training dataset"
      ],
      "metadata": {
        "id": "1ifEFyw1ckNV"
      },
      "id": "1ifEFyw1ckNV"
    },
    {
      "cell_type": "code",
      "execution_count": null,
      "id": "23f35b61",
      "metadata": {
        "id": "23f35b61",
        "outputId": "57371121-7348-4059-f07e-87c201cd47ac",
        "colab": {
          "base_uri": "https://localhost:8080/"
        }
      },
      "outputs": [
        {
          "output_type": "execute_result",
          "data": {
            "text/plain": [
              "Index(['OverallQual', 'YearBuilt', 'YearRemodAdd', 'TotalBsmtSF', '1stFlrSF',\n",
              "       'GrLivArea', 'FullBath', 'TotRmsAbvGrd', 'GarageCars', 'GarageArea',\n",
              "       'SalePrice', 'ExterQual_TA', 'Foundation_PConc', 'KitchenQual_TA'],\n",
              "      dtype='object')"
            ]
          },
          "metadata": {},
          "execution_count": 3
        }
      ],
      "source": [
        "#Using .columns, list all the columns in the training dataset and \n",
        "#identify which will be the targets and which wiil be features\n",
        "train.columns"
      ]
    },
    {
      "cell_type": "markdown",
      "source": [
        "Setting up the model"
      ],
      "metadata": {
        "id": "FrsZLT_5MNFj"
      },
      "id": "FrsZLT_5MNFj"
    },
    {
      "cell_type": "code",
      "execution_count": null,
      "id": "f3bb245b",
      "metadata": {
        "id": "f3bb245b"
      },
      "outputs": [],
      "source": [
        "#Import LinearRegression from the sklearn library\n",
        "from sklearn.linear_model import LinearRegression"
      ]
    },
    {
      "cell_type": "code",
      "execution_count": null,
      "id": "4a2cd3f1",
      "metadata": {
        "id": "4a2cd3f1"
      },
      "outputs": [],
      "source": [
        "#Assign LinearRegression() to a variable\n",
        "model = LinearRegression()"
      ]
    },
    {
      "cell_type": "code",
      "execution_count": null,
      "id": "869e4782",
      "metadata": {
        "id": "869e4782"
      },
      "outputs": [],
      "source": [
        "#Assign the target to the dataset \n",
        "#by dropping the target column from the X-variables and assign it as label\n",
        "X_train = train.drop('SalePrice', axis=1)\n",
        "y_train = train.loc[:,'SalePrice']"
      ]
    },
    {
      "cell_type": "markdown",
      "source": [
        "Training the model"
      ],
      "metadata": {
        "id": "dn6hLFKCM9Wu"
      },
      "id": "dn6hLFKCM9Wu"
    },
    {
      "cell_type": "code",
      "execution_count": null,
      "id": "7545b918",
      "metadata": {
        "id": "7545b918",
        "outputId": "0a07d392-2413-40e0-f791-96389b662353",
        "colab": {
          "base_uri": "https://localhost:8080/"
        }
      },
      "outputs": [
        {
          "output_type": "execute_result",
          "data": {
            "text/plain": [
              "LinearRegression()"
            ]
          },
          "metadata": {},
          "execution_count": 7
        }
      ],
      "source": [
        "#Train the model\n",
        "model.fit(X_train,y_train)"
      ]
    },
    {
      "cell_type": "markdown",
      "source": [
        "Testing the model"
      ],
      "metadata": {
        "id": "fw8-QVE4M-kY"
      },
      "id": "fw8-QVE4M-kY"
    },
    {
      "cell_type": "code",
      "execution_count": null,
      "id": "6d34fc45",
      "metadata": {
        "id": "6d34fc45"
      },
      "outputs": [],
      "source": [
        "#Assign the target to the dataset \n",
        "#by dropping the target column from the X-variables and assign it as label\n",
        "X_test = test.drop('SalePrice', axis=1)\n",
        "y_test = test.loc[:,'SalePrice']"
      ]
    },
    {
      "cell_type": "code",
      "execution_count": null,
      "id": "f2f715de",
      "metadata": {
        "id": "f2f715de"
      },
      "outputs": [],
      "source": [
        "#Make predictions using the testing dataset\n",
        "predictions = model.predict(X_test)"
      ]
    },
    {
      "cell_type": "markdown",
      "source": [
        "Finding the RMSE of the dataset"
      ],
      "metadata": {
        "id": "_Da3CmqTQSPe"
      },
      "id": "_Da3CmqTQSPe"
    },
    {
      "cell_type": "code",
      "execution_count": 10,
      "id": "a70d0388",
      "metadata": {
        "id": "a70d0388"
      },
      "outputs": [],
      "source": [
        "#Import mean_squared_error from the sklearn library\n",
        "from sklearn.metrics import mean_squared_error\n",
        "\n",
        "#Import sqrt from numpy\n",
        "from numpy import sqrt"
      ]
    },
    {
      "cell_type": "code",
      "execution_count": 11,
      "id": "636248b2",
      "metadata": {
        "id": "636248b2",
        "outputId": "e09c6b9d-ced7-44a0-d3e0-0bd78035cfc2",
        "colab": {
          "base_uri": "https://localhost:8080/"
        }
      },
      "outputs": [
        {
          "output_type": "execute_result",
          "data": {
            "text/plain": [
              "33186.38417236769"
            ]
          },
          "metadata": {},
          "execution_count": 11
        }
      ],
      "source": [
        "#Calculate the Root Mean Squared Errorand assign to a variable\n",
        "rmse = sqrt(mean_squared_error(y_test, predictions))\n",
        "\n",
        "#Print/display the Root Mean Squared Error\n",
        "rmse"
      ]
    },
    {
      "cell_type": "markdown",
      "source": [
        "Comparing the actual test values with the predictions "
      ],
      "metadata": {
        "id": "JtpJh7vkRHx_"
      },
      "id": "JtpJh7vkRHx_"
    },
    {
      "cell_type": "code",
      "execution_count": 12,
      "id": "916087ab",
      "metadata": {
        "id": "916087ab"
      },
      "outputs": [],
      "source": [
        "#Create a dataframe with the actual values and the predicted values \n",
        "#for easy comparison\n",
        "comparison = pd.DataFrame({\"Actual Values\": y_test,\"Predictions\": predictions})"
      ]
    },
    {
      "cell_type": "code",
      "execution_count": 13,
      "id": "b969e300",
      "metadata": {
        "id": "b969e300",
        "outputId": "c7dfddbd-812b-4429-af01-5a1e269e68cc",
        "colab": {
          "base_uri": "https://localhost:8080/",
          "height": 206
        }
      },
      "outputs": [
        {
          "output_type": "execute_result",
          "data": {
            "text/plain": [
              "   Actual Values    Predictions\n",
              "0         118500   83380.944694\n",
              "1         154900  105974.149765\n",
              "2         133000  139238.138343\n",
              "3         115000  104982.049557\n",
              "4         154500  140473.360146"
            ],
            "text/html": [
              "\n",
              "  <div id=\"df-f091b4a1-961f-4651-9f1d-f65f3b376f08\">\n",
              "    <div class=\"colab-df-container\">\n",
              "      <div>\n",
              "<style scoped>\n",
              "    .dataframe tbody tr th:only-of-type {\n",
              "        vertical-align: middle;\n",
              "    }\n",
              "\n",
              "    .dataframe tbody tr th {\n",
              "        vertical-align: top;\n",
              "    }\n",
              "\n",
              "    .dataframe thead th {\n",
              "        text-align: right;\n",
              "    }\n",
              "</style>\n",
              "<table border=\"1\" class=\"dataframe\">\n",
              "  <thead>\n",
              "    <tr style=\"text-align: right;\">\n",
              "      <th></th>\n",
              "      <th>Actual Values</th>\n",
              "      <th>Predictions</th>\n",
              "    </tr>\n",
              "  </thead>\n",
              "  <tbody>\n",
              "    <tr>\n",
              "      <th>0</th>\n",
              "      <td>118500</td>\n",
              "      <td>83380.944694</td>\n",
              "    </tr>\n",
              "    <tr>\n",
              "      <th>1</th>\n",
              "      <td>154900</td>\n",
              "      <td>105974.149765</td>\n",
              "    </tr>\n",
              "    <tr>\n",
              "      <th>2</th>\n",
              "      <td>133000</td>\n",
              "      <td>139238.138343</td>\n",
              "    </tr>\n",
              "    <tr>\n",
              "      <th>3</th>\n",
              "      <td>115000</td>\n",
              "      <td>104982.049557</td>\n",
              "    </tr>\n",
              "    <tr>\n",
              "      <th>4</th>\n",
              "      <td>154500</td>\n",
              "      <td>140473.360146</td>\n",
              "    </tr>\n",
              "  </tbody>\n",
              "</table>\n",
              "</div>\n",
              "      <button class=\"colab-df-convert\" onclick=\"convertToInteractive('df-f091b4a1-961f-4651-9f1d-f65f3b376f08')\"\n",
              "              title=\"Convert this dataframe to an interactive table.\"\n",
              "              style=\"display:none;\">\n",
              "        \n",
              "  <svg xmlns=\"http://www.w3.org/2000/svg\" height=\"24px\"viewBox=\"0 0 24 24\"\n",
              "       width=\"24px\">\n",
              "    <path d=\"M0 0h24v24H0V0z\" fill=\"none\"/>\n",
              "    <path d=\"M18.56 5.44l.94 2.06.94-2.06 2.06-.94-2.06-.94-.94-2.06-.94 2.06-2.06.94zm-11 1L8.5 8.5l.94-2.06 2.06-.94-2.06-.94L8.5 2.5l-.94 2.06-2.06.94zm10 10l.94 2.06.94-2.06 2.06-.94-2.06-.94-.94-2.06-.94 2.06-2.06.94z\"/><path d=\"M17.41 7.96l-1.37-1.37c-.4-.4-.92-.59-1.43-.59-.52 0-1.04.2-1.43.59L10.3 9.45l-7.72 7.72c-.78.78-.78 2.05 0 2.83L4 21.41c.39.39.9.59 1.41.59.51 0 1.02-.2 1.41-.59l7.78-7.78 2.81-2.81c.8-.78.8-2.07 0-2.86zM5.41 20L4 18.59l7.72-7.72 1.47 1.35L5.41 20z\"/>\n",
              "  </svg>\n",
              "      </button>\n",
              "      \n",
              "  <style>\n",
              "    .colab-df-container {\n",
              "      display:flex;\n",
              "      flex-wrap:wrap;\n",
              "      gap: 12px;\n",
              "    }\n",
              "\n",
              "    .colab-df-convert {\n",
              "      background-color: #E8F0FE;\n",
              "      border: none;\n",
              "      border-radius: 50%;\n",
              "      cursor: pointer;\n",
              "      display: none;\n",
              "      fill: #1967D2;\n",
              "      height: 32px;\n",
              "      padding: 0 0 0 0;\n",
              "      width: 32px;\n",
              "    }\n",
              "\n",
              "    .colab-df-convert:hover {\n",
              "      background-color: #E2EBFA;\n",
              "      box-shadow: 0px 1px 2px rgba(60, 64, 67, 0.3), 0px 1px 3px 1px rgba(60, 64, 67, 0.15);\n",
              "      fill: #174EA6;\n",
              "    }\n",
              "\n",
              "    [theme=dark] .colab-df-convert {\n",
              "      background-color: #3B4455;\n",
              "      fill: #D2E3FC;\n",
              "    }\n",
              "\n",
              "    [theme=dark] .colab-df-convert:hover {\n",
              "      background-color: #434B5C;\n",
              "      box-shadow: 0px 1px 3px 1px rgba(0, 0, 0, 0.15);\n",
              "      filter: drop-shadow(0px 1px 2px rgba(0, 0, 0, 0.3));\n",
              "      fill: #FFFFFF;\n",
              "    }\n",
              "  </style>\n",
              "\n",
              "      <script>\n",
              "        const buttonEl =\n",
              "          document.querySelector('#df-f091b4a1-961f-4651-9f1d-f65f3b376f08 button.colab-df-convert');\n",
              "        buttonEl.style.display =\n",
              "          google.colab.kernel.accessAllowed ? 'block' : 'none';\n",
              "\n",
              "        async function convertToInteractive(key) {\n",
              "          const element = document.querySelector('#df-f091b4a1-961f-4651-9f1d-f65f3b376f08');\n",
              "          const dataTable =\n",
              "            await google.colab.kernel.invokeFunction('convertToInteractive',\n",
              "                                                     [key], {});\n",
              "          if (!dataTable) return;\n",
              "\n",
              "          const docLinkHtml = 'Like what you see? Visit the ' +\n",
              "            '<a target=\"_blank\" href=https://colab.research.google.com/notebooks/data_table.ipynb>data table notebook</a>'\n",
              "            + ' to learn more about interactive tables.';\n",
              "          element.innerHTML = '';\n",
              "          dataTable['output_type'] = 'display_data';\n",
              "          await google.colab.output.renderOutput(dataTable, element);\n",
              "          const docLink = document.createElement('div');\n",
              "          docLink.innerHTML = docLinkHtml;\n",
              "          element.appendChild(docLink);\n",
              "        }\n",
              "      </script>\n",
              "    </div>\n",
              "  </div>\n",
              "  "
            ]
          },
          "metadata": {},
          "execution_count": 13
        }
      ],
      "source": [
        "#Display the first 5 rows of the comparison dataframe\n",
        "comparison.head()"
      ]
    },
    {
      "cell_type": "code",
      "execution_count": 14,
      "id": "c3641180",
      "metadata": {
        "id": "c3641180",
        "outputId": "43073307-1367-4e7c-ca76-af15d0ad0562",
        "colab": {
          "base_uri": "https://localhost:8080/",
          "height": 206
        }
      },
      "outputs": [
        {
          "output_type": "execute_result",
          "data": {
            "text/plain": [
              "     Actual Values    Predictions\n",
              "324         132250  102816.796295\n",
              "325         123000  121698.649065\n",
              "326         316600  271745.844407\n",
              "327         142000  131258.275591\n",
              "328         250000  263005.372419"
            ],
            "text/html": [
              "\n",
              "  <div id=\"df-45e83065-4b0d-4457-8532-fed982b10707\">\n",
              "    <div class=\"colab-df-container\">\n",
              "      <div>\n",
              "<style scoped>\n",
              "    .dataframe tbody tr th:only-of-type {\n",
              "        vertical-align: middle;\n",
              "    }\n",
              "\n",
              "    .dataframe tbody tr th {\n",
              "        vertical-align: top;\n",
              "    }\n",
              "\n",
              "    .dataframe thead th {\n",
              "        text-align: right;\n",
              "    }\n",
              "</style>\n",
              "<table border=\"1\" class=\"dataframe\">\n",
              "  <thead>\n",
              "    <tr style=\"text-align: right;\">\n",
              "      <th></th>\n",
              "      <th>Actual Values</th>\n",
              "      <th>Predictions</th>\n",
              "    </tr>\n",
              "  </thead>\n",
              "  <tbody>\n",
              "    <tr>\n",
              "      <th>324</th>\n",
              "      <td>132250</td>\n",
              "      <td>102816.796295</td>\n",
              "    </tr>\n",
              "    <tr>\n",
              "      <th>325</th>\n",
              "      <td>123000</td>\n",
              "      <td>121698.649065</td>\n",
              "    </tr>\n",
              "    <tr>\n",
              "      <th>326</th>\n",
              "      <td>316600</td>\n",
              "      <td>271745.844407</td>\n",
              "    </tr>\n",
              "    <tr>\n",
              "      <th>327</th>\n",
              "      <td>142000</td>\n",
              "      <td>131258.275591</td>\n",
              "    </tr>\n",
              "    <tr>\n",
              "      <th>328</th>\n",
              "      <td>250000</td>\n",
              "      <td>263005.372419</td>\n",
              "    </tr>\n",
              "  </tbody>\n",
              "</table>\n",
              "</div>\n",
              "      <button class=\"colab-df-convert\" onclick=\"convertToInteractive('df-45e83065-4b0d-4457-8532-fed982b10707')\"\n",
              "              title=\"Convert this dataframe to an interactive table.\"\n",
              "              style=\"display:none;\">\n",
              "        \n",
              "  <svg xmlns=\"http://www.w3.org/2000/svg\" height=\"24px\"viewBox=\"0 0 24 24\"\n",
              "       width=\"24px\">\n",
              "    <path d=\"M0 0h24v24H0V0z\" fill=\"none\"/>\n",
              "    <path d=\"M18.56 5.44l.94 2.06.94-2.06 2.06-.94-2.06-.94-.94-2.06-.94 2.06-2.06.94zm-11 1L8.5 8.5l.94-2.06 2.06-.94-2.06-.94L8.5 2.5l-.94 2.06-2.06.94zm10 10l.94 2.06.94-2.06 2.06-.94-2.06-.94-.94-2.06-.94 2.06-2.06.94z\"/><path d=\"M17.41 7.96l-1.37-1.37c-.4-.4-.92-.59-1.43-.59-.52 0-1.04.2-1.43.59L10.3 9.45l-7.72 7.72c-.78.78-.78 2.05 0 2.83L4 21.41c.39.39.9.59 1.41.59.51 0 1.02-.2 1.41-.59l7.78-7.78 2.81-2.81c.8-.78.8-2.07 0-2.86zM5.41 20L4 18.59l7.72-7.72 1.47 1.35L5.41 20z\"/>\n",
              "  </svg>\n",
              "      </button>\n",
              "      \n",
              "  <style>\n",
              "    .colab-df-container {\n",
              "      display:flex;\n",
              "      flex-wrap:wrap;\n",
              "      gap: 12px;\n",
              "    }\n",
              "\n",
              "    .colab-df-convert {\n",
              "      background-color: #E8F0FE;\n",
              "      border: none;\n",
              "      border-radius: 50%;\n",
              "      cursor: pointer;\n",
              "      display: none;\n",
              "      fill: #1967D2;\n",
              "      height: 32px;\n",
              "      padding: 0 0 0 0;\n",
              "      width: 32px;\n",
              "    }\n",
              "\n",
              "    .colab-df-convert:hover {\n",
              "      background-color: #E2EBFA;\n",
              "      box-shadow: 0px 1px 2px rgba(60, 64, 67, 0.3), 0px 1px 3px 1px rgba(60, 64, 67, 0.15);\n",
              "      fill: #174EA6;\n",
              "    }\n",
              "\n",
              "    [theme=dark] .colab-df-convert {\n",
              "      background-color: #3B4455;\n",
              "      fill: #D2E3FC;\n",
              "    }\n",
              "\n",
              "    [theme=dark] .colab-df-convert:hover {\n",
              "      background-color: #434B5C;\n",
              "      box-shadow: 0px 1px 3px 1px rgba(0, 0, 0, 0.15);\n",
              "      filter: drop-shadow(0px 1px 2px rgba(0, 0, 0, 0.3));\n",
              "      fill: #FFFFFF;\n",
              "    }\n",
              "  </style>\n",
              "\n",
              "      <script>\n",
              "        const buttonEl =\n",
              "          document.querySelector('#df-45e83065-4b0d-4457-8532-fed982b10707 button.colab-df-convert');\n",
              "        buttonEl.style.display =\n",
              "          google.colab.kernel.accessAllowed ? 'block' : 'none';\n",
              "\n",
              "        async function convertToInteractive(key) {\n",
              "          const element = document.querySelector('#df-45e83065-4b0d-4457-8532-fed982b10707');\n",
              "          const dataTable =\n",
              "            await google.colab.kernel.invokeFunction('convertToInteractive',\n",
              "                                                     [key], {});\n",
              "          if (!dataTable) return;\n",
              "\n",
              "          const docLinkHtml = 'Like what you see? Visit the ' +\n",
              "            '<a target=\"_blank\" href=https://colab.research.google.com/notebooks/data_table.ipynb>data table notebook</a>'\n",
              "            + ' to learn more about interactive tables.';\n",
              "          element.innerHTML = '';\n",
              "          dataTable['output_type'] = 'display_data';\n",
              "          await google.colab.output.renderOutput(dataTable, element);\n",
              "          const docLink = document.createElement('div');\n",
              "          docLink.innerHTML = docLinkHtml;\n",
              "          element.appendChild(docLink);\n",
              "        }\n",
              "      </script>\n",
              "    </div>\n",
              "  </div>\n",
              "  "
            ]
          },
          "metadata": {},
          "execution_count": 14
        }
      ],
      "source": [
        "#Display the last 5 rows of the comparison dataframe\n",
        "comparison.tail()"
      ]
    },
    {
      "cell_type": "markdown",
      "source": [
        "Checking correlations in the training dataset"
      ],
      "metadata": {
        "id": "fOFRj7nQScZ7"
      },
      "id": "fOFRj7nQScZ7"
    },
    {
      "cell_type": "code",
      "execution_count": 15,
      "id": "4b254811",
      "metadata": {
        "id": "4b254811",
        "outputId": "bf160cd8-42da-47a9-841e-676f838dcf7a",
        "colab": {
          "base_uri": "https://localhost:8080/"
        }
      },
      "outputs": [
        {
          "output_type": "execute_result",
          "data": {
            "text/plain": [
              "SalePrice           1.000000\n",
              "OverallQual         0.792263\n",
              "GrLivArea           0.712054\n",
              "GarageCars          0.658355\n",
              "GarageArea          0.621354\n",
              "1stFlrSF            0.621057\n",
              "TotalBsmtSF         0.612205\n",
              "FullBath            0.597505\n",
              "TotRmsAbvGrd        0.573845\n",
              "Foundation_PConc    0.517222\n",
              "Name: SalePrice, dtype: float64"
            ]
          },
          "metadata": {},
          "execution_count": 15
        }
      ],
      "source": [
        "#Display, in descending order, the top 10 correlations to the target\n",
        "train.corr()[\"SalePrice\"].sort_values(ascending=False).head(10)"
      ]
    },
    {
      "cell_type": "code",
      "execution_count": 16,
      "id": "82481e20",
      "metadata": {
        "id": "82481e20",
        "outputId": "6edd5a68-b62a-4064-ab8d-544d71ae4216",
        "colab": {
          "base_uri": "https://localhost:8080/",
          "height": 552
        }
      },
      "outputs": [
        {
          "output_type": "execute_result",
          "data": {
            "text/plain": [
              "                  OverallQual  YearBuilt  YearRemodAdd  TotalBsmtSF  1stFlrSF  \\\n",
              "OverallQual          1.000000   0.572367      0.550407     0.557685  0.539527   \n",
              "YearBuilt            0.572367   1.000000      0.615451     0.418706  0.315715   \n",
              "YearRemodAdd         0.550407   0.615451      1.000000     0.305751  0.299912   \n",
              "TotalBsmtSF          0.557685   0.418706      0.305751     1.000000  0.912271   \n",
              "1stFlrSF             0.539527   0.315715      0.299912     0.912271  1.000000   \n",
              "GrLivArea            0.628890   0.205311      0.300983     0.517430  0.589766   \n",
              "FullBath             0.598265   0.496001      0.500358     0.370448  0.392271   \n",
              "TotRmsAbvGrd         0.482744   0.122193      0.189233     0.337671  0.416777   \n",
              "GarageCars           0.627897   0.530869      0.507051     0.476327  0.472616   \n",
              "GarageArea           0.579378   0.466243      0.459938     0.539858  0.531808   \n",
              "SalePrice            0.792263   0.503317      0.504414     0.612205  0.621057   \n",
              "ExterQual_TA        -0.692146  -0.608600     -0.586210    -0.414837 -0.355415   \n",
              "Foundation_PConc     0.593079   0.675289      0.608433     0.330111  0.262008   \n",
              "KitchenQual_TA      -0.579892  -0.478635     -0.621112    -0.353424 -0.315156   \n",
              "\n",
              "                  GrLivArea  FullBath  TotRmsAbvGrd  GarageCars  GarageArea  \\\n",
              "OverallQual        0.628890  0.598265      0.482744    0.627897    0.579378   \n",
              "YearBuilt          0.205311  0.496001      0.122193    0.530869    0.466243   \n",
              "YearRemodAdd       0.300983  0.500358      0.189233    0.507051    0.459938   \n",
              "TotalBsmtSF        0.517430  0.370448      0.337671    0.476327    0.539858   \n",
              "1stFlrSF           0.589766  0.392271      0.416777    0.472616    0.531808   \n",
              "GrLivArea          1.000000  0.624707      0.826999    0.492914    0.499800   \n",
              "FullBath           0.624707  1.000000      0.550967    0.528268    0.465081   \n",
              "TotRmsAbvGrd       0.826999  0.550967      1.000000    0.426842    0.389448   \n",
              "GarageCars         0.492914  0.528268      0.426842    1.000000    0.845512   \n",
              "GarageArea         0.499800  0.465081      0.389448    0.845512    1.000000   \n",
              "SalePrice          0.712054  0.597505      0.573845    0.658355    0.621354   \n",
              "ExterQual_TA      -0.427637 -0.516471     -0.307535   -0.543945   -0.511492   \n",
              "Foundation_PConc   0.340340  0.519781      0.255900    0.517289    0.451725   \n",
              "KitchenQual_TA    -0.384288 -0.474227     -0.251362   -0.465095   -0.455758   \n",
              "\n",
              "                  SalePrice  ExterQual_TA  Foundation_PConc  KitchenQual_TA  \n",
              "OverallQual        0.792263     -0.692146          0.593079       -0.579892  \n",
              "YearBuilt          0.503317     -0.608600          0.675289       -0.478635  \n",
              "YearRemodAdd       0.504414     -0.586210          0.608433       -0.621112  \n",
              "TotalBsmtSF        0.612205     -0.414837          0.330111       -0.353424  \n",
              "1stFlrSF           0.621057     -0.355415          0.262008       -0.315156  \n",
              "GrLivArea          0.712054     -0.427637          0.340340       -0.384288  \n",
              "FullBath           0.597505     -0.516471          0.519781       -0.474227  \n",
              "TotRmsAbvGrd       0.573845     -0.307535          0.255900       -0.251362  \n",
              "GarageCars         0.658355     -0.543945          0.517289       -0.465095  \n",
              "GarageArea         0.621354     -0.511492          0.451725       -0.455758  \n",
              "SalePrice          1.000000     -0.598202          0.517222       -0.527176  \n",
              "ExterQual_TA      -0.598202      1.000000         -0.673381        0.683627  \n",
              "Foundation_PConc   0.517222     -0.673381          1.000000       -0.600103  \n",
              "KitchenQual_TA    -0.527176      0.683627         -0.600103        1.000000  "
            ],
            "text/html": [
              "\n",
              "  <div id=\"df-15ea5718-6004-4596-8f95-709dd3cebda8\">\n",
              "    <div class=\"colab-df-container\">\n",
              "      <div>\n",
              "<style scoped>\n",
              "    .dataframe tbody tr th:only-of-type {\n",
              "        vertical-align: middle;\n",
              "    }\n",
              "\n",
              "    .dataframe tbody tr th {\n",
              "        vertical-align: top;\n",
              "    }\n",
              "\n",
              "    .dataframe thead th {\n",
              "        text-align: right;\n",
              "    }\n",
              "</style>\n",
              "<table border=\"1\" class=\"dataframe\">\n",
              "  <thead>\n",
              "    <tr style=\"text-align: right;\">\n",
              "      <th></th>\n",
              "      <th>OverallQual</th>\n",
              "      <th>YearBuilt</th>\n",
              "      <th>YearRemodAdd</th>\n",
              "      <th>TotalBsmtSF</th>\n",
              "      <th>1stFlrSF</th>\n",
              "      <th>GrLivArea</th>\n",
              "      <th>FullBath</th>\n",
              "      <th>TotRmsAbvGrd</th>\n",
              "      <th>GarageCars</th>\n",
              "      <th>GarageArea</th>\n",
              "      <th>SalePrice</th>\n",
              "      <th>ExterQual_TA</th>\n",
              "      <th>Foundation_PConc</th>\n",
              "      <th>KitchenQual_TA</th>\n",
              "    </tr>\n",
              "  </thead>\n",
              "  <tbody>\n",
              "    <tr>\n",
              "      <th>OverallQual</th>\n",
              "      <td>1.000000</td>\n",
              "      <td>0.572367</td>\n",
              "      <td>0.550407</td>\n",
              "      <td>0.557685</td>\n",
              "      <td>0.539527</td>\n",
              "      <td>0.628890</td>\n",
              "      <td>0.598265</td>\n",
              "      <td>0.482744</td>\n",
              "      <td>0.627897</td>\n",
              "      <td>0.579378</td>\n",
              "      <td>0.792263</td>\n",
              "      <td>-0.692146</td>\n",
              "      <td>0.593079</td>\n",
              "      <td>-0.579892</td>\n",
              "    </tr>\n",
              "    <tr>\n",
              "      <th>YearBuilt</th>\n",
              "      <td>0.572367</td>\n",
              "      <td>1.000000</td>\n",
              "      <td>0.615451</td>\n",
              "      <td>0.418706</td>\n",
              "      <td>0.315715</td>\n",
              "      <td>0.205311</td>\n",
              "      <td>0.496001</td>\n",
              "      <td>0.122193</td>\n",
              "      <td>0.530869</td>\n",
              "      <td>0.466243</td>\n",
              "      <td>0.503317</td>\n",
              "      <td>-0.608600</td>\n",
              "      <td>0.675289</td>\n",
              "      <td>-0.478635</td>\n",
              "    </tr>\n",
              "    <tr>\n",
              "      <th>YearRemodAdd</th>\n",
              "      <td>0.550407</td>\n",
              "      <td>0.615451</td>\n",
              "      <td>1.000000</td>\n",
              "      <td>0.305751</td>\n",
              "      <td>0.299912</td>\n",
              "      <td>0.300983</td>\n",
              "      <td>0.500358</td>\n",
              "      <td>0.189233</td>\n",
              "      <td>0.507051</td>\n",
              "      <td>0.459938</td>\n",
              "      <td>0.504414</td>\n",
              "      <td>-0.586210</td>\n",
              "      <td>0.608433</td>\n",
              "      <td>-0.621112</td>\n",
              "    </tr>\n",
              "    <tr>\n",
              "      <th>TotalBsmtSF</th>\n",
              "      <td>0.557685</td>\n",
              "      <td>0.418706</td>\n",
              "      <td>0.305751</td>\n",
              "      <td>1.000000</td>\n",
              "      <td>0.912271</td>\n",
              "      <td>0.517430</td>\n",
              "      <td>0.370448</td>\n",
              "      <td>0.337671</td>\n",
              "      <td>0.476327</td>\n",
              "      <td>0.539858</td>\n",
              "      <td>0.612205</td>\n",
              "      <td>-0.414837</td>\n",
              "      <td>0.330111</td>\n",
              "      <td>-0.353424</td>\n",
              "    </tr>\n",
              "    <tr>\n",
              "      <th>1stFlrSF</th>\n",
              "      <td>0.539527</td>\n",
              "      <td>0.315715</td>\n",
              "      <td>0.299912</td>\n",
              "      <td>0.912271</td>\n",
              "      <td>1.000000</td>\n",
              "      <td>0.589766</td>\n",
              "      <td>0.392271</td>\n",
              "      <td>0.416777</td>\n",
              "      <td>0.472616</td>\n",
              "      <td>0.531808</td>\n",
              "      <td>0.621057</td>\n",
              "      <td>-0.355415</td>\n",
              "      <td>0.262008</td>\n",
              "      <td>-0.315156</td>\n",
              "    </tr>\n",
              "    <tr>\n",
              "      <th>GrLivArea</th>\n",
              "      <td>0.628890</td>\n",
              "      <td>0.205311</td>\n",
              "      <td>0.300983</td>\n",
              "      <td>0.517430</td>\n",
              "      <td>0.589766</td>\n",
              "      <td>1.000000</td>\n",
              "      <td>0.624707</td>\n",
              "      <td>0.826999</td>\n",
              "      <td>0.492914</td>\n",
              "      <td>0.499800</td>\n",
              "      <td>0.712054</td>\n",
              "      <td>-0.427637</td>\n",
              "      <td>0.340340</td>\n",
              "      <td>-0.384288</td>\n",
              "    </tr>\n",
              "    <tr>\n",
              "      <th>FullBath</th>\n",
              "      <td>0.598265</td>\n",
              "      <td>0.496001</td>\n",
              "      <td>0.500358</td>\n",
              "      <td>0.370448</td>\n",
              "      <td>0.392271</td>\n",
              "      <td>0.624707</td>\n",
              "      <td>1.000000</td>\n",
              "      <td>0.550967</td>\n",
              "      <td>0.528268</td>\n",
              "      <td>0.465081</td>\n",
              "      <td>0.597505</td>\n",
              "      <td>-0.516471</td>\n",
              "      <td>0.519781</td>\n",
              "      <td>-0.474227</td>\n",
              "    </tr>\n",
              "    <tr>\n",
              "      <th>TotRmsAbvGrd</th>\n",
              "      <td>0.482744</td>\n",
              "      <td>0.122193</td>\n",
              "      <td>0.189233</td>\n",
              "      <td>0.337671</td>\n",
              "      <td>0.416777</td>\n",
              "      <td>0.826999</td>\n",
              "      <td>0.550967</td>\n",
              "      <td>1.000000</td>\n",
              "      <td>0.426842</td>\n",
              "      <td>0.389448</td>\n",
              "      <td>0.573845</td>\n",
              "      <td>-0.307535</td>\n",
              "      <td>0.255900</td>\n",
              "      <td>-0.251362</td>\n",
              "    </tr>\n",
              "    <tr>\n",
              "      <th>GarageCars</th>\n",
              "      <td>0.627897</td>\n",
              "      <td>0.530869</td>\n",
              "      <td>0.507051</td>\n",
              "      <td>0.476327</td>\n",
              "      <td>0.472616</td>\n",
              "      <td>0.492914</td>\n",
              "      <td>0.528268</td>\n",
              "      <td>0.426842</td>\n",
              "      <td>1.000000</td>\n",
              "      <td>0.845512</td>\n",
              "      <td>0.658355</td>\n",
              "      <td>-0.543945</td>\n",
              "      <td>0.517289</td>\n",
              "      <td>-0.465095</td>\n",
              "    </tr>\n",
              "    <tr>\n",
              "      <th>GarageArea</th>\n",
              "      <td>0.579378</td>\n",
              "      <td>0.466243</td>\n",
              "      <td>0.459938</td>\n",
              "      <td>0.539858</td>\n",
              "      <td>0.531808</td>\n",
              "      <td>0.499800</td>\n",
              "      <td>0.465081</td>\n",
              "      <td>0.389448</td>\n",
              "      <td>0.845512</td>\n",
              "      <td>1.000000</td>\n",
              "      <td>0.621354</td>\n",
              "      <td>-0.511492</td>\n",
              "      <td>0.451725</td>\n",
              "      <td>-0.455758</td>\n",
              "    </tr>\n",
              "    <tr>\n",
              "      <th>SalePrice</th>\n",
              "      <td>0.792263</td>\n",
              "      <td>0.503317</td>\n",
              "      <td>0.504414</td>\n",
              "      <td>0.612205</td>\n",
              "      <td>0.621057</td>\n",
              "      <td>0.712054</td>\n",
              "      <td>0.597505</td>\n",
              "      <td>0.573845</td>\n",
              "      <td>0.658355</td>\n",
              "      <td>0.621354</td>\n",
              "      <td>1.000000</td>\n",
              "      <td>-0.598202</td>\n",
              "      <td>0.517222</td>\n",
              "      <td>-0.527176</td>\n",
              "    </tr>\n",
              "    <tr>\n",
              "      <th>ExterQual_TA</th>\n",
              "      <td>-0.692146</td>\n",
              "      <td>-0.608600</td>\n",
              "      <td>-0.586210</td>\n",
              "      <td>-0.414837</td>\n",
              "      <td>-0.355415</td>\n",
              "      <td>-0.427637</td>\n",
              "      <td>-0.516471</td>\n",
              "      <td>-0.307535</td>\n",
              "      <td>-0.543945</td>\n",
              "      <td>-0.511492</td>\n",
              "      <td>-0.598202</td>\n",
              "      <td>1.000000</td>\n",
              "      <td>-0.673381</td>\n",
              "      <td>0.683627</td>\n",
              "    </tr>\n",
              "    <tr>\n",
              "      <th>Foundation_PConc</th>\n",
              "      <td>0.593079</td>\n",
              "      <td>0.675289</td>\n",
              "      <td>0.608433</td>\n",
              "      <td>0.330111</td>\n",
              "      <td>0.262008</td>\n",
              "      <td>0.340340</td>\n",
              "      <td>0.519781</td>\n",
              "      <td>0.255900</td>\n",
              "      <td>0.517289</td>\n",
              "      <td>0.451725</td>\n",
              "      <td>0.517222</td>\n",
              "      <td>-0.673381</td>\n",
              "      <td>1.000000</td>\n",
              "      <td>-0.600103</td>\n",
              "    </tr>\n",
              "    <tr>\n",
              "      <th>KitchenQual_TA</th>\n",
              "      <td>-0.579892</td>\n",
              "      <td>-0.478635</td>\n",
              "      <td>-0.621112</td>\n",
              "      <td>-0.353424</td>\n",
              "      <td>-0.315156</td>\n",
              "      <td>-0.384288</td>\n",
              "      <td>-0.474227</td>\n",
              "      <td>-0.251362</td>\n",
              "      <td>-0.465095</td>\n",
              "      <td>-0.455758</td>\n",
              "      <td>-0.527176</td>\n",
              "      <td>0.683627</td>\n",
              "      <td>-0.600103</td>\n",
              "      <td>1.000000</td>\n",
              "    </tr>\n",
              "  </tbody>\n",
              "</table>\n",
              "</div>\n",
              "      <button class=\"colab-df-convert\" onclick=\"convertToInteractive('df-15ea5718-6004-4596-8f95-709dd3cebda8')\"\n",
              "              title=\"Convert this dataframe to an interactive table.\"\n",
              "              style=\"display:none;\">\n",
              "        \n",
              "  <svg xmlns=\"http://www.w3.org/2000/svg\" height=\"24px\"viewBox=\"0 0 24 24\"\n",
              "       width=\"24px\">\n",
              "    <path d=\"M0 0h24v24H0V0z\" fill=\"none\"/>\n",
              "    <path d=\"M18.56 5.44l.94 2.06.94-2.06 2.06-.94-2.06-.94-.94-2.06-.94 2.06-2.06.94zm-11 1L8.5 8.5l.94-2.06 2.06-.94-2.06-.94L8.5 2.5l-.94 2.06-2.06.94zm10 10l.94 2.06.94-2.06 2.06-.94-2.06-.94-.94-2.06-.94 2.06-2.06.94z\"/><path d=\"M17.41 7.96l-1.37-1.37c-.4-.4-.92-.59-1.43-.59-.52 0-1.04.2-1.43.59L10.3 9.45l-7.72 7.72c-.78.78-.78 2.05 0 2.83L4 21.41c.39.39.9.59 1.41.59.51 0 1.02-.2 1.41-.59l7.78-7.78 2.81-2.81c.8-.78.8-2.07 0-2.86zM5.41 20L4 18.59l7.72-7.72 1.47 1.35L5.41 20z\"/>\n",
              "  </svg>\n",
              "      </button>\n",
              "      \n",
              "  <style>\n",
              "    .colab-df-container {\n",
              "      display:flex;\n",
              "      flex-wrap:wrap;\n",
              "      gap: 12px;\n",
              "    }\n",
              "\n",
              "    .colab-df-convert {\n",
              "      background-color: #E8F0FE;\n",
              "      border: none;\n",
              "      border-radius: 50%;\n",
              "      cursor: pointer;\n",
              "      display: none;\n",
              "      fill: #1967D2;\n",
              "      height: 32px;\n",
              "      padding: 0 0 0 0;\n",
              "      width: 32px;\n",
              "    }\n",
              "\n",
              "    .colab-df-convert:hover {\n",
              "      background-color: #E2EBFA;\n",
              "      box-shadow: 0px 1px 2px rgba(60, 64, 67, 0.3), 0px 1px 3px 1px rgba(60, 64, 67, 0.15);\n",
              "      fill: #174EA6;\n",
              "    }\n",
              "\n",
              "    [theme=dark] .colab-df-convert {\n",
              "      background-color: #3B4455;\n",
              "      fill: #D2E3FC;\n",
              "    }\n",
              "\n",
              "    [theme=dark] .colab-df-convert:hover {\n",
              "      background-color: #434B5C;\n",
              "      box-shadow: 0px 1px 3px 1px rgba(0, 0, 0, 0.15);\n",
              "      filter: drop-shadow(0px 1px 2px rgba(0, 0, 0, 0.3));\n",
              "      fill: #FFFFFF;\n",
              "    }\n",
              "  </style>\n",
              "\n",
              "      <script>\n",
              "        const buttonEl =\n",
              "          document.querySelector('#df-15ea5718-6004-4596-8f95-709dd3cebda8 button.colab-df-convert');\n",
              "        buttonEl.style.display =\n",
              "          google.colab.kernel.accessAllowed ? 'block' : 'none';\n",
              "\n",
              "        async function convertToInteractive(key) {\n",
              "          const element = document.querySelector('#df-15ea5718-6004-4596-8f95-709dd3cebda8');\n",
              "          const dataTable =\n",
              "            await google.colab.kernel.invokeFunction('convertToInteractive',\n",
              "                                                     [key], {});\n",
              "          if (!dataTable) return;\n",
              "\n",
              "          const docLinkHtml = 'Like what you see? Visit the ' +\n",
              "            '<a target=\"_blank\" href=https://colab.research.google.com/notebooks/data_table.ipynb>data table notebook</a>'\n",
              "            + ' to learn more about interactive tables.';\n",
              "          element.innerHTML = '';\n",
              "          dataTable['output_type'] = 'display_data';\n",
              "          await google.colab.output.renderOutput(dataTable, element);\n",
              "          const docLink = document.createElement('div');\n",
              "          docLink.innerHTML = docLinkHtml;\n",
              "          element.appendChild(docLink);\n",
              "        }\n",
              "      </script>\n",
              "    </div>\n",
              "  </div>\n",
              "  "
            ]
          },
          "metadata": {},
          "execution_count": 16
        }
      ],
      "source": [
        "#Using .corr(), assign the correlations of the training dataset to a variable\n",
        "correlations = train.corr()\n",
        "\n",
        "#Print/display the correlations\n",
        "correlations"
      ]
    },
    {
      "cell_type": "code",
      "execution_count": 17,
      "id": "a296f2bf",
      "metadata": {
        "id": "a296f2bf",
        "outputId": "947d5a36-2ff6-4a4a-eb5d-21e77b7c963c",
        "colab": {
          "base_uri": "https://localhost:8080/"
        }
      },
      "outputs": [
        {
          "output_type": "execute_result",
          "data": {
            "text/plain": [
              "OverallQual         0.792263\n",
              "YearBuilt           0.503317\n",
              "YearRemodAdd        0.504414\n",
              "TotalBsmtSF         0.612205\n",
              "1stFlrSF            0.621057\n",
              "GrLivArea           0.712054\n",
              "FullBath            0.597505\n",
              "TotRmsAbvGrd        0.573845\n",
              "GarageCars          0.658355\n",
              "GarageArea          0.621354\n",
              "SalePrice           1.000000\n",
              "ExterQual_TA       -0.598202\n",
              "Foundation_PConc    0.517222\n",
              "KitchenQual_TA     -0.527176\n",
              "Name: SalePrice, dtype: float64"
            ]
          },
          "metadata": {},
          "execution_count": 17
        }
      ],
      "source": [
        "#Single out the correlations to the target ('SalePrice')\n",
        "saleprice_correlations = correlations[\"SalePrice\"]\n",
        "\n",
        "#Print/display these correlations\n",
        "saleprice_correlations"
      ]
    },
    {
      "cell_type": "code",
      "execution_count": 18,
      "id": "26a6b621",
      "metadata": {
        "id": "26a6b621",
        "outputId": "16b3f51d-f29e-41bb-bbcc-9bbc41802b52",
        "colab": {
          "base_uri": "https://localhost:8080/"
        }
      },
      "outputs": [
        {
          "output_type": "execute_result",
          "data": {
            "text/plain": [
              "SalePrice           1.000000\n",
              "OverallQual         0.792263\n",
              "GrLivArea           0.712054\n",
              "GarageCars          0.658355\n",
              "GarageArea          0.621354\n",
              "1stFlrSF            0.621057\n",
              "TotalBsmtSF         0.612205\n",
              "FullBath            0.597505\n",
              "TotRmsAbvGrd        0.573845\n",
              "Foundation_PConc    0.517222\n",
              "Name: SalePrice, dtype: float64"
            ]
          },
          "metadata": {},
          "execution_count": 18
        }
      ],
      "source": [
        "#Sort the correlations to the target, arrange them in descending order \n",
        "#and display the top/first 10\n",
        "saleprice_correlations.sort_values(ascending=False).head(10)"
      ]
    }
  ],
  "metadata": {
    "kernelspec": {
      "display_name": "Python 3",
      "language": "python",
      "name": "python3"
    },
    "language_info": {
      "codemirror_mode": {
        "name": "ipython",
        "version": 3
      },
      "file_extension": ".py",
      "mimetype": "text/x-python",
      "name": "python",
      "nbconvert_exporter": "python",
      "pygments_lexer": "ipython3",
      "version": "3.8.8"
    },
    "colab": {
      "name": "Regression - House Prices.ipynb",
      "provenance": [],
      "collapsed_sections": [],
      "include_colab_link": true
    }
  },
  "nbformat": 4,
  "nbformat_minor": 5
}
